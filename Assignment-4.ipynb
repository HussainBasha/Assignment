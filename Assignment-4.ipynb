{
 "cells": [
  {
   "cell_type": "code",
   "execution_count": 2,
   "metadata": {},
   "outputs": [
    {
     "name": "stdout",
     "output_type": "stream",
     "text": [
      "Give 1st Edge::78\n",
      "Give 2nd Edge::53\n",
      "Give 3rd Edge::765\n",
      "284498.57262207835\n"
     ]
    }
   ],
   "source": [
    "#Area of Triangle\n",
    "import math\n",
    "class Traingle:\n",
    "    def __init__(self):\n",
    "        self.a=\"\"\n",
    "        self.b=\"\"\n",
    "        self.c=\"\"\n",
    "    def get_string(self):\n",
    "        self.a=int(input(\"Give 1st Edge::\"))\n",
    "        self.b=int(input(\"Give 2nd Edge::\"))\n",
    "        self.c=int(input(\"Give 3rd Edge::\"))\n",
    "    def area(self):\n",
    "        self.s=(self.a+self.b+self.c)\n",
    "        self.o=self.s-self.a\n",
    "        self.p=self.s-self.b\n",
    "        self.q=self.s-self.c\n",
    "        self.ar=math.sqrt(self.s*self.o*self.p*self.q)\n",
    "        print(self.ar)\n",
    "obj=Traingle()\n",
    "obj.get_string()\n",
    "obj.area()"
   ]
  },
  {
   "cell_type": "code",
   "execution_count": 25,
   "metadata": {},
   "outputs": [
    {
     "name": "stdout",
     "output_type": "stream",
     "text": [
      "Enter how many itesm required in list of words2\n",
      "Enter lenght compare on strings2\n",
      "Enter Items::sdf\n",
      "Enter Items::sdf\n",
      "List of words longer than N:: ['sdf', 'sdf']\n"
     ]
    }
   ],
   "source": [
    "#returns the list of words that are longer than n.\n",
    "def filter_long_words():\n",
    "    a=[]\n",
    "    b=int(input(\"Enter how many itesm required in list of words\"))\n",
    "    c=int(input(\"Enter lenght compare on strings\"))\n",
    "    d=[]\n",
    "    for i in range(b):\n",
    "        i=input(\"Enter Items::\")\n",
    "        a.append(i)\n",
    "    for j in a:\n",
    "        if len(j)>c:\n",
    "            d.append(j)\n",
    "    print(\"List of words longer than N::\",d)\n",
    "    \n",
    "filter_long_words()\n",
    "   "
   ]
  },
  {
   "cell_type": "code",
   "execution_count": null,
   "metadata": {},
   "outputs": [],
   "source": [
    "#maps list of words into a list of integers representing the lengths of the corresponding words\n",
    "def length(a):\n",
    "    b=[]\n",
    "    for i in a:\n",
    "        b.append(len(i))\n",
    "    return b\n",
    "c=[\"Hussain\",\"Basha\",\"Y\"]\n",
    "length(c)\n"
   ]
  },
  {
   "cell_type": "code",
   "execution_count": 2,
   "metadata": {},
   "outputs": [
    {
     "name": "stdout",
     "output_type": "stream",
     "text": [
      "Enter a characteru\n"
     ]
    },
    {
     "data": {
      "text/plain": [
       "True"
      ]
     },
     "execution_count": 2,
     "metadata": {},
     "output_type": "execute_result"
    }
   ],
   "source": [
    "#Returns True if it is a vowel, False otherwise\n",
    "def char_func():\n",
    "    a=['a','e','i','o','u']\n",
    "    b=input(\"Enter a character\")\n",
    "    if b in a:\n",
    "        return True\n",
    "    else:\n",
    "        return False\n",
    "char_func()"
   ]
  }
 ],
 "metadata": {
  "kernelspec": {
   "display_name": "Python 3",
   "language": "python",
   "name": "python3"
  },
  "language_info": {
   "codemirror_mode": {
    "name": "ipython",
    "version": 3
   },
   "file_extension": ".py",
   "mimetype": "text/x-python",
   "name": "python",
   "nbconvert_exporter": "python",
   "pygments_lexer": "ipython3",
   "version": "3.7.4"
  }
 },
 "nbformat": 4,
 "nbformat_minor": 2
}
