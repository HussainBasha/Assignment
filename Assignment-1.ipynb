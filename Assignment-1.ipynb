{
 "cells": [
  {
   "cell_type": "code",
   "execution_count": 1,
   "metadata": {},
   "outputs": [
    {
     "name": "stdout",
     "output_type": "stream",
     "text": [
      "[2030, 2065, 2100, 2135, 2170, 2205, 2240, 2275, 2310, 2345, 2380, 2415, 2450, 2485, 2520, 2555, 2590, 2625, 2660, 2695, 2730, 2765, 2800, 2835, 2870, 2905, 2940, 2975, 3010, 3045, 3080, 3115, 3150, 3185]\n"
     ]
    }
   ],
   "source": [
    "#1. Write a program which will find all such numbers which are divisible by 7 but are not a multiple of 5, \n",
    "#between 2000 and 3200 (both included). The numbers obtained should be printed a comma-separated sequence on a single line\n",
    "\n",
    "num=list(range(2000,3200))\n",
    "l=[]\n",
    "for i in num:\n",
    "    if i%7==0:\n",
    "        if i%5==0:\n",
    "            l.append(i)\n",
    "print(l)\n"
   ]
  },
  {
   "cell_type": "code",
   "execution_count": 3,
   "metadata": {},
   "outputs": [
    {
     "name": "stdout",
     "output_type": "stream",
     "text": [
      "Enter your First Name ::husf\n",
      "ENter your Last Name::sdf;ljrd\n",
      "Reverse order:: ['fsuh', 'drjl;fds']\n"
     ]
    }
   ],
   "source": [
    "#2. Write a Python program to accept the user's first and last name and then getting them\n",
    "#printed in the the reverse order with a space between first name and last name.\n",
    "f_name=input(\"Enter your First Name ::\")\n",
    "l_name=input(\"ENter your Last Name::\")\n",
    "name=[f_name,l_name]\n",
    "r_name=[]\n",
    "for i in name:\n",
    "    r_name.append(i[::-1])\n",
    "print(\"Reverse order::\",r_name)"
   ]
  },
  {
   "cell_type": "code",
   "execution_count": 4,
   "metadata": {},
   "outputs": [
    {
     "name": "stdout",
     "output_type": "stream",
     "text": [
      "Enter Diameter of Sphere(cm)::5\n",
      "Volume of Speher is  523.3333333333334\n"
     ]
    }
   ],
   "source": [
    "#3. Write a Python program to find the volume of a sphere with diameter 12 cm.Formula: V=4/3 * π * r 3\n",
    "dia=float(input(\"Enter Diameter of Sphere(cm)::\"))\n",
    "pi=3.14\n",
    "volume=(4/3)*pi*dia**3\n",
    "print(\"Volume of Speher is ::\",volume)"
   ]
  }
 ],
 "metadata": {
  "kernelspec": {
   "display_name": "Python 3",
   "language": "python",
   "name": "python3"
  },
  "language_info": {
   "codemirror_mode": {
    "name": "ipython",
    "version": 3
   },
   "file_extension": ".py",
   "mimetype": "text/x-python",
   "name": "python",
   "nbconvert_exporter": "python",
   "pygments_lexer": "ipython3",
   "version": "3.7.4"
  }
 },
 "nbformat": 4,
 "nbformat_minor": 2
}
