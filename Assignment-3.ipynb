{
 "cells": [
  {
   "cell_type": "code",
   "execution_count": 13,
   "metadata": {},
   "outputs": [
    {
     "name": "stdout",
     "output_type": "stream",
     "text": [
      "110\n"
     ]
    }
   ],
   "source": [
    "#Own myreduce() function work like builit in reduce \n",
    "list=[10,20,30,50]\n",
    "a=list[0]\n",
    "def myreduce(add,list):\n",
    "    return a\n",
    "def add(a,b):\n",
    "    return a+b\n",
    "for i in range(1,len(list)):\n",
    "    b=list[i]\n",
    "    a=add(a,b)\n",
    "print(myreduce(add,list))"
   ]
  },
  {
   "cell_type": "code",
   "execution_count": 12,
   "metadata": {},
   "outputs": [
    {
     "name": "stdout",
     "output_type": "stream",
     "text": [
      "[2, 4, 6, 54, 324, 6, 8]\n"
     ]
    }
   ],
   "source": [
    "#own filter() function work like built in filter\n",
    "lis=[1,2,3,4,5,6,54,324,6,3,8]\n",
    "li=[]\n",
    "def myfilter(even,lis):\n",
    "    return even()\n",
    "def even():\n",
    "    for i in lis:\n",
    "        if i%2==0:\n",
    "            li.append(i)\n",
    "    print(li)\n",
    "myfilter(even,lis)\n",
    "            "
   ]
  },
  {
   "cell_type": "code",
   "execution_count": 9,
   "metadata": {},
   "outputs": [
    {
     "name": "stdout",
     "output_type": "stream",
     "text": [
      "[2, 4, 6, 8, 10]\n"
     ]
    }
   ],
   "source": [
    "def myfilter(is_even,list_2):\n",
    "    return is_even()\n",
    "list_2=[2,3,4,5,6,7,8,9,10]\n",
    "list_3=[]\n",
    "def is_even():\n",
    "    for i in list_2:\n",
    "        if i%2==0:\n",
    "            list_3.append(i)\n",
    "    print(list_3)\n",
    "myfilter(is_even,list_2)"
   ]
  },
  {
   "cell_type": "code",
   "execution_count": 91,
   "metadata": {},
   "outputs": [
    {
     "name": "stdout",
     "output_type": "stream",
     "text": [
      "[['x', 'xx', 'xxx'], ['y', 'yy', 'yyy'], ['z', 'zz', 'zzz']]\n",
      "[['x', 'y', 'z'], ['xx', 'yy', 'zz'], ['xxx', 'yyy', 'zzz']]\n"
     ]
    }
   ],
   "source": [
    "l=[\"x\",\"y\",\"z\"]\n",
    "s=[]\n",
    "list=[[j*i for j in range(1,len(l)+1)] for i in l]\n",
    "print(list)\n",
    "list2=[[j*i for j in l ]for i in range(1,len(l)+1)]\n",
    "print(list2)"
   ]
  }
 ],
 "metadata": {
  "kernelspec": {
   "display_name": "Python 3",
   "language": "python",
   "name": "python3"
  },
  "language_info": {
   "codemirror_mode": {
    "name": "ipython",
    "version": 3
   },
   "file_extension": ".py",
   "mimetype": "text/x-python",
   "name": "python",
   "nbconvert_exporter": "python",
   "pygments_lexer": "ipython3",
   "version": "3.7.4"
  }
 },
 "nbformat": 4,
 "nbformat_minor": 2
}
